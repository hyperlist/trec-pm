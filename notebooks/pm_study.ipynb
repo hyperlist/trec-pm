{
 "cells": [
  {
   "cell_type": "markdown",
   "metadata": {},
   "source": [
    "# Uses AutoML to train a precision medicine document classifier on ClinicalTrials data"
   ]
  },
  {
   "cell_type": "code",
   "execution_count": 2,
   "metadata": {},
   "outputs": [
    {
     "data": {
      "text/html": [
       "<div>\n",
       "<style scoped>\n",
       "    .dataframe tbody tr th:only-of-type {\n",
       "        vertical-align: middle;\n",
       "    }\n",
       "\n",
       "    .dataframe tbody tr th {\n",
       "        vertical-align: top;\n",
       "    }\n",
       "\n",
       "    .dataframe thead th {\n",
       "        text-align: right;\n",
       "    }\n",
       "</style>\n",
       "<table border=\"1\" class=\"dataframe\">\n",
       "  <thead>\n",
       "    <tr style=\"text-align: right;\">\n",
       "      <th></th>\n",
       "      <th>Unnamed: 0</th>\n",
       "      <th>trec_topic_number</th>\n",
       "      <th>trec_doc_id</th>\n",
       "      <th>pm_rel_desc</th>\n",
       "      <th>disease_desc</th>\n",
       "      <th>gene1_annotation_desc</th>\n",
       "      <th>gene1_name</th>\n",
       "      <th>gene2_annotation_desc</th>\n",
       "      <th>gene2_name</th>\n",
       "      <th>gene3_annotation_desc</th>\n",
       "      <th>...</th>\n",
       "      <th>other_interventions</th>\n",
       "      <th>inclusion_criteria</th>\n",
       "      <th>mesh_terms_conditions</th>\n",
       "      <th>mesh_terms_interventions</th>\n",
       "      <th>trec_topic_disease</th>\n",
       "      <th>trec_topic_age</th>\n",
       "      <th>trec_topic_sex</th>\n",
       "      <th>trec_topic_other1</th>\n",
       "      <th>trec_topic_other2</th>\n",
       "      <th>trec_topic_other3</th>\n",
       "    </tr>\n",
       "  </thead>\n",
       "  <tbody>\n",
       "    <tr>\n",
       "      <th>0</th>\n",
       "      <td>0</td>\n",
       "      <td>1</td>\n",
       "      <td>NCT00001188</td>\n",
       "      <td>Not PM</td>\n",
       "      <td></td>\n",
       "      <td></td>\n",
       "      <td></td>\n",
       "      <td></td>\n",
       "      <td></td>\n",
       "      <td></td>\n",
       "      <td>...</td>\n",
       "      <td>radiation therapy following surgery</td>\n",
       "      <td>Patients must have biopsy-proven soft tissue s...</td>\n",
       "      <td>Sarcoma</td>\n",
       "      <td></td>\n",
       "      <td>Liposarcoma</td>\n",
       "      <td>38-year-old</td>\n",
       "      <td>male</td>\n",
       "      <td>GERD</td>\n",
       "      <td></td>\n",
       "      <td></td>\n",
       "    </tr>\n",
       "    <tr>\n",
       "      <th>1</th>\n",
       "      <td>1</td>\n",
       "      <td>1</td>\n",
       "      <td>NCT00001189</td>\n",
       "      <td>Not PM</td>\n",
       "      <td></td>\n",
       "      <td></td>\n",
       "      <td></td>\n",
       "      <td></td>\n",
       "      <td></td>\n",
       "      <td></td>\n",
       "      <td>...</td>\n",
       "      <td>radiotherapy</td>\n",
       "      <td>DISEASE CHARACTERISTICS:        Biopsy-proven ...</td>\n",
       "      <td>Sarcoma;Soft Tissue Neoplasms</td>\n",
       "      <td></td>\n",
       "      <td>Liposarcoma</td>\n",
       "      <td>38-year-old</td>\n",
       "      <td>male</td>\n",
       "      <td>GERD</td>\n",
       "      <td></td>\n",
       "      <td></td>\n",
       "    </tr>\n",
       "    <tr>\n",
       "      <th>2</th>\n",
       "      <td>2</td>\n",
       "      <td>1</td>\n",
       "      <td>NCT00002185</td>\n",
       "      <td>Not PM</td>\n",
       "      <td></td>\n",
       "      <td></td>\n",
       "      <td></td>\n",
       "      <td></td>\n",
       "      <td></td>\n",
       "      <td></td>\n",
       "      <td>...</td>\n",
       "      <td></td>\n",
       "      <td>Patients must have:          -  HIV-po...</td>\n",
       "      <td>HIV Infections;Sarcoma;Sarcoma, Kaposi</td>\n",
       "      <td>Nelfinavir</td>\n",
       "      <td>Liposarcoma</td>\n",
       "      <td>38-year-old</td>\n",
       "      <td>male</td>\n",
       "      <td>GERD</td>\n",
       "      <td></td>\n",
       "      <td></td>\n",
       "    </tr>\n",
       "    <tr>\n",
       "      <th>3</th>\n",
       "      <td>3</td>\n",
       "      <td>1</td>\n",
       "      <td>NCT00002466</td>\n",
       "      <td>Not PM</td>\n",
       "      <td></td>\n",
       "      <td></td>\n",
       "      <td></td>\n",
       "      <td></td>\n",
       "      <td></td>\n",
       "      <td></td>\n",
       "      <td>...</td>\n",
       "      <td>conventional surgery;radiation therapy</td>\n",
       "      <td>DISEASE CHARACTERISTICS: Diagnosis of peripher...</td>\n",
       "      <td>Sarcoma;Kidney Neoplasms;Sarcoma, Ewing;Neuroe...</td>\n",
       "      <td>Cyclophosphamide;Ifosfamide;Isophosphamide mus...</td>\n",
       "      <td>Liposarcoma</td>\n",
       "      <td>38-year-old</td>\n",
       "      <td>male</td>\n",
       "      <td>GERD</td>\n",
       "      <td></td>\n",
       "      <td></td>\n",
       "    </tr>\n",
       "    <tr>\n",
       "      <th>4</th>\n",
       "      <td>4</td>\n",
       "      <td>1</td>\n",
       "      <td>NCT00002641</td>\n",
       "      <td>Not PM</td>\n",
       "      <td></td>\n",
       "      <td></td>\n",
       "      <td></td>\n",
       "      <td></td>\n",
       "      <td></td>\n",
       "      <td></td>\n",
       "      <td>...</td>\n",
       "      <td>filgrastim;adjuvant therapy;conventional surge...</td>\n",
       "      <td>DISEASE CHARACTERISTICS:          -  Histologi...</td>\n",
       "      <td>Sarcoma;Endometrial Neoplasms;Kidney Neoplasms...</td>\n",
       "      <td>Doxorubicin;Liposomal doxorubicin;Isophosphami...</td>\n",
       "      <td>Liposarcoma</td>\n",
       "      <td>38-year-old</td>\n",
       "      <td>male</td>\n",
       "      <td>GERD</td>\n",
       "      <td></td>\n",
       "      <td></td>\n",
       "    </tr>\n",
       "  </tbody>\n",
       "</table>\n",
       "<p>5 rows × 35 columns</p>\n",
       "</div>"
      ],
      "text/plain": [
       "   Unnamed: 0  trec_topic_number  trec_doc_id pm_rel_desc disease_desc  \\\n",
       "0           0                  1  NCT00001188      Not PM                \n",
       "1           1                  1  NCT00001189      Not PM                \n",
       "2           2                  1  NCT00002185      Not PM                \n",
       "3           3                  1  NCT00002466      Not PM                \n",
       "4           4                  1  NCT00002641      Not PM                \n",
       "\n",
       "  gene1_annotation_desc gene1_name gene2_annotation_desc gene2_name  \\\n",
       "0                                                                     \n",
       "1                                                                     \n",
       "2                                                                     \n",
       "3                                                                     \n",
       "4                                                                     \n",
       "\n",
       "  gene3_annotation_desc        ...         \\\n",
       "0                              ...          \n",
       "1                              ...          \n",
       "2                              ...          \n",
       "3                              ...          \n",
       "4                              ...          \n",
       "\n",
       "                                 other_interventions  \\\n",
       "0                radiation therapy following surgery   \n",
       "1                                       radiotherapy   \n",
       "2                                                      \n",
       "3             conventional surgery;radiation therapy   \n",
       "4  filgrastim;adjuvant therapy;conventional surge...   \n",
       "\n",
       "                                  inclusion_criteria  \\\n",
       "0  Patients must have biopsy-proven soft tissue s...   \n",
       "1  DISEASE CHARACTERISTICS:        Biopsy-proven ...   \n",
       "2          Patients must have:          -  HIV-po...   \n",
       "3  DISEASE CHARACTERISTICS: Diagnosis of peripher...   \n",
       "4  DISEASE CHARACTERISTICS:          -  Histologi...   \n",
       "\n",
       "                               mesh_terms_conditions  \\\n",
       "0                                            Sarcoma   \n",
       "1                      Sarcoma;Soft Tissue Neoplasms   \n",
       "2             HIV Infections;Sarcoma;Sarcoma, Kaposi   \n",
       "3  Sarcoma;Kidney Neoplasms;Sarcoma, Ewing;Neuroe...   \n",
       "4  Sarcoma;Endometrial Neoplasms;Kidney Neoplasms...   \n",
       "\n",
       "                            mesh_terms_interventions trec_topic_disease  \\\n",
       "0                                                           Liposarcoma   \n",
       "1                                                           Liposarcoma   \n",
       "2                                         Nelfinavir        Liposarcoma   \n",
       "3  Cyclophosphamide;Ifosfamide;Isophosphamide mus...        Liposarcoma   \n",
       "4  Doxorubicin;Liposomal doxorubicin;Isophosphami...        Liposarcoma   \n",
       "\n",
       "  trec_topic_age trec_topic_sex trec_topic_other1 trec_topic_other2  \\\n",
       "0    38-year-old           male              GERD                     \n",
       "1    38-year-old           male              GERD                     \n",
       "2    38-year-old           male              GERD                     \n",
       "3    38-year-old           male              GERD                     \n",
       "4    38-year-old           male              GERD                     \n",
       "\n",
       "  trec_topic_other3  \n",
       "0                    \n",
       "1                    \n",
       "2                    \n",
       "3                    \n",
       "4                    \n",
       "\n",
       "[5 rows x 35 columns]"
      ]
     },
     "execution_count": 2,
     "metadata": {},
     "output_type": "execute_result"
    }
   ],
   "source": [
    "import pandas as pd\n",
    "studies = pd.read_csv(\"20180712processedGoldStandardCT.tsv\", sep = '\\t', encoding='utf8')\n",
    "studies.fillna(\"\", inplace=True)\n",
    "studies.head()"
   ]
  },
  {
   "cell_type": "code",
   "execution_count": 3,
   "metadata": {},
   "outputs": [],
   "source": [
    "feature_names = [\"official_title\",\n",
    "                \"brief_summary\",\n",
    "                \"detailed_description\",\n",
    "                \"study_design_info\",\n",
    "                \"outcomes\",\n",
    "                \"conditions\",\n",
    "                \"arm_groups\",\n",
    "                \"drug_interventions\",\n",
    "                \"other_interventions\",\n",
    "                \"inclusion_criteria\",\n",
    "                \"mesh_terms_conditions\",\n",
    "                \"mesh_terms_interventions\"]"
   ]
  },
  {
   "cell_type": "code",
   "execution_count": 4,
   "metadata": {},
   "outputs": [],
   "source": [
    "studies[\"conditions\"]= studies[\"conditions\"].str.replace(\";\", \" \")\n",
    "studies[\"mesh_terms_conditions\"]= studies[\"mesh_terms_conditions\"].str.replace(\";\", \" \")\n",
    "studies[\"mesh_terms_interventions\"]= studies[\"mesh_terms_interventions\"].str.replace(\";\", \" \")\n",
    "studies[\"drug_interventions\"]= studies[\"drug_interventions\"].str.replace(\";\", \" \")\n",
    "studies[\"other_interventions\"]= studies[\"other_interventions\"].str.replace(\";\", \" \")"
   ]
  },
  {
   "cell_type": "code",
   "execution_count": 5,
   "metadata": {},
   "outputs": [
    {
     "name": "stdout",
     "output_type": "stream",
     "text": [
      "official_title: The Treatment of Grade I Sarcomas and Benign, Non-Metastasizing Highly Invasive Soft Tissue Tumors\n",
      "\n",
      "brief_summary: Patients with Grade I soft tissue sarcomas or benign, non-metastasizing invasive soft tissue      tumors will receive wide local excision and be prospectively randomized as to either receive      or not receive radiation therapy.\n",
      "\n",
      "detailed_description: This is a randomized study. Patients undergo surgical excision of all gross disease and then      are randomized to Arm I or Arm II.      Arm I: Radiotherapy. Involved-field irradiation.      Arm II: No further treatment.\n",
      "\n",
      "study_design_info: Treatment\n",
      "\n",
      "outcomes: Characterize the natural and clinical histories of inherited urologic malignant disorders.    Ongoing;Determine the genetic etiology of hereditary urologic malignant disorders in which the gene defect is unknown, by linkage analysis, positional cloning and evaluation of candidate genes.    Ongoing;Correlate specific mutations and their associated protein domains with disease phenotypic expression based on parameters including presenting age, clinical manifestations, histopathology and rate of recurrence.    Ongoing;Identify and describe as yet unknown or uncharacterized inherited urologic malignant disorders.    Ongoing\n",
      "\n",
      "conditions: Sarcoma Neoplasms\n",
      "\n",
      "arm_groups: gemcitabine + ISIS 2503    Experimental    Patients receive gemcitabine IV over 30 minutes on days 1 and 8 and ISIS 2503 IV continuously on days 1-14. Treatment continues every 21 days in the absence of disease progression or unacceptable toxicity. Patients are followed every 3 months for 1 year and then every 6 months for 4 years.\n",
      "\n",
      "drug_interventions: \n",
      "\n",
      "other_interventions: radiotherapy\n",
      "\n",
      "inclusion_criteria: DISEASE CHARACTERISTICS:        Biopsy-proven grade I soft tissue sarcoma or one of the following benign but highly        invasive soft tissue tumors:        Abdominal and extra-abdominal fibromatosis (desmoid,        aggressive fibromatosis),        Dermatofibrosarcoma protuberans,        Intramuscular lipoma (infiltrating lipoma),        Diffuse lipomatosis,        Leiomyoma of deep soft tissue,        Diffuse giant cell tumor of tendon sheath (proliferative synovitis).        No clinical evidence of metastases in regional nodes or more distant sites.        No primary intraperitoneal or retroperitoneal tumors.        Resection of all gross tumor at the time of surgical excision required (margins may be        pathologically positive or negative).        No von Recklinghausen's disease.        PRIOR/CONCURRENT THERAPY:        Biologic Therapy: Not specified.        Chemotherapy: No prior chemotherapy for sarcoma.        Endocrine Therapy: Not specified.        Radiotherapy: No prior radiotherapy for sarcoma.        Surgery: No more than 4 months since definitive surgery for        primary lesion or recurrence.        No prior amputation.        PATIENT CHARACTERISTICS:        Age: 18 and over.        Performance status: Not specified.        Hematopoietic: Not specified.        Hepatic: No cirrhosis.        Renal: No evidence of severe renal impairment.        Cardiovascular: No ischemic heart disease.        OTHER:        No prior malignancy except basal cell carcinoma.        No serious infection.        No active bleeding disorder.        No severe concomitant disease.\n",
      "\n",
      "mesh_terms_conditions: Sarcoma Soft Tissue Neoplasms\n",
      "\n",
      "mesh_terms_interventions: \n",
      "\n"
     ]
    }
   ],
   "source": [
    "for i in range(1):\n",
    "    for f in feature_names:\n",
    "        print(f + \": \" + str(studies.loc[i+1, f]), end=\"\\n\\n\")"
   ]
  },
  {
   "cell_type": "code",
   "execution_count": 6,
   "metadata": {},
   "outputs": [],
   "source": [
    "studies['X'] = studies.apply(lambda r: ' '.join(r[feature] for feature in feature_names), axis=1)"
   ]
  },
  {
   "cell_type": "code",
   "execution_count": 7,
   "metadata": {},
   "outputs": [
    {
     "data": {
      "text/plain": [
       "\"The Treatment of Grade I Sarcomas and Benign, Non-Metastasizing Highly Invasive Soft Tissue Tumors Patients with Grade I soft tissue sarcomas or benign, non-metastasizing invasive soft tissue      tumors will receive wide local excision and be prospectively randomized as to either receive      or not receive radiation therapy. This is a randomized study. Patients undergo surgical excision of all gross disease and then      are randomized to Arm I or Arm II.      Arm I: Radiotherapy. Involved-field irradiation.      Arm II: No further treatment. Treatment Characterize the natural and clinical histories of inherited urologic malignant disorders.    Ongoing;Determine the genetic etiology of hereditary urologic malignant disorders in which the gene defect is unknown, by linkage analysis, positional cloning and evaluation of candidate genes.    Ongoing;Correlate specific mutations and their associated protein domains with disease phenotypic expression based on parameters including presenting age, clinical manifestations, histopathology and rate of recurrence.    Ongoing;Identify and describe as yet unknown or uncharacterized inherited urologic malignant disorders.    Ongoing Sarcoma Neoplasms gemcitabine + ISIS 2503    Experimental    Patients receive gemcitabine IV over 30 minutes on days 1 and 8 and ISIS 2503 IV continuously on days 1-14. Treatment continues every 21 days in the absence of disease progression or unacceptable toxicity. Patients are followed every 3 months for 1 year and then every 6 months for 4 years.  radiotherapy DISEASE CHARACTERISTICS:        Biopsy-proven grade I soft tissue sarcoma or one of the following benign but highly        invasive soft tissue tumors:        Abdominal and extra-abdominal fibromatosis (desmoid,        aggressive fibromatosis),        Dermatofibrosarcoma protuberans,        Intramuscular lipoma (infiltrating lipoma),        Diffuse lipomatosis,        Leiomyoma of deep soft tissue,        Diffuse giant cell tumor of tendon sheath (proliferative synovitis).        No clinical evidence of metastases in regional nodes or more distant sites.        No primary intraperitoneal or retroperitoneal tumors.        Resection of all gross tumor at the time of surgical excision required (margins may be        pathologically positive or negative).        No von Recklinghausen's disease.        PRIOR/CONCURRENT THERAPY:        Biologic Therapy: Not specified.        Chemotherapy: No prior chemotherapy for sarcoma.        Endocrine Therapy: Not specified.        Radiotherapy: No prior radiotherapy for sarcoma.        Surgery: No more than 4 months since definitive surgery for        primary lesion or recurrence.        No prior amputation.        PATIENT CHARACTERISTICS:        Age: 18 and over.        Performance status: Not specified.        Hematopoietic: Not specified.        Hepatic: No cirrhosis.        Renal: No evidence of severe renal impairment.        Cardiovascular: No ischemic heart disease.        OTHER:        No prior malignancy except basal cell carcinoma.        No serious infection.        No active bleeding disorder.        No severe concomitant disease. Sarcoma Soft Tissue Neoplasms \""
      ]
     },
     "execution_count": 7,
     "metadata": {},
     "output_type": "execute_result"
    }
   ],
   "source": [
    "studies[\"X\"][1]"
   ]
  },
  {
   "cell_type": "code",
   "execution_count": 8,
   "metadata": {},
   "outputs": [
    {
     "name": "stderr",
     "output_type": "stream",
     "text": [
      "/home/vagrant/anaconda3/envs/autosklearn/lib/python3.6/site-packages/ipykernel_launcher.py:5: SettingWithCopyWarning: \n",
      "A value is trying to be set on a copy of a slice from a DataFrame\n",
      "\n",
      "See the caveats in the documentation: http://pandas.pydata.org/pandas-docs/stable/indexing.html#indexing-view-versus-copy\n",
      "  \"\"\"\n",
      "/home/vagrant/anaconda3/envs/autosklearn/lib/python3.6/site-packages/ipykernel_launcher.py:6: SettingWithCopyWarning: \n",
      "A value is trying to be set on a copy of a slice from a DataFrame\n",
      "\n",
      "See the caveats in the documentation: http://pandas.pydata.org/pandas-docs/stable/indexing.html#indexing-view-versus-copy\n",
      "  \n"
     ]
    },
    {
     "data": {
      "text/plain": [
       "0    0\n",
       "1    0\n",
       "2    0\n",
       "3    0\n",
       "4    0\n",
       "5    0\n",
       "6    0\n",
       "7    0\n",
       "8    0\n",
       "9    0\n",
       "Name: pm, dtype: int64"
      ]
     },
     "execution_count": 8,
     "metadata": {},
     "output_type": "execute_result"
    }
   ],
   "source": [
    "import numpy as np\n",
    "np.unique(studies['pm_rel_desc'])\n",
    "\n",
    "studies[\"pm\"] = 0\n",
    "studies[\"pm\"][studies[\"pm_rel_desc\"] == \"Human PM\"] = 1\n",
    "studies[\"pm\"][studies[\"pm_rel_desc\"] == \"Animal PM\"] = 1\n",
    "studies[\"pm\"][:10]"
   ]
  },
  {
   "cell_type": "code",
   "execution_count": 9,
   "metadata": {},
   "outputs": [
    {
     "name": "stdout",
     "output_type": "stream",
     "text": [
      "9480\n",
      "3961\n"
     ]
    }
   ],
   "source": [
    "print(sum(studies.pm == 0))\n",
    "print(sum(studies.pm == 1))"
   ]
  },
  {
   "cell_type": "code",
   "execution_count": 10,
   "metadata": {},
   "outputs": [
    {
     "name": "stdout",
     "output_type": "stream",
     "text": [
      "X_train shape:  (10080,)\n",
      "y_train shape:  (10080,)\n",
      "X_test shape:  (3361,)\n",
      "y_test shape:  (3361,)\n"
     ]
    }
   ],
   "source": [
    "from sklearn.model_selection import train_test_split\n",
    "X_train, X_test, y_train, y_test = train_test_split(studies['X'], studies['pm'], test_size=0.25, random_state=33)\n",
    "print(\"X_train shape: \", X_train.shape)\n",
    "print(\"y_train shape: \", y_train.shape)\n",
    "print(\"X_test shape: \", X_test.shape)\n",
    "print(\"y_test shape: \", y_test.shape)"
   ]
  },
  {
   "cell_type": "code",
   "execution_count": 11,
   "metadata": {},
   "outputs": [
    {
     "name": "stdout",
     "output_type": "stream",
     "text": [
      "x_train instance:  The Treatment of Grade I Sarcomas and Benign, Non-Metastasizing Highly Invasive Soft Tissue Tumors Patients with Grade I soft tissue sarcomas or benign, non-metastasizing invasive soft tissue      tumors will receive wide local excision and be prospectively randomized as to either receive      or not receive radiation therapy. This is a randomized study. Patients undergo surgical excision of all gross disease and then      are randomized to Arm I or Arm II.      Arm I: Radiotherapy. Involved-field irradiation.      Arm II: No further treatment. Treatment Characterize the natural and clinical histories of inherited urologic malignant disorders.    Ongoing;Determine the genetic etiology of hereditary urologic malignant disorders in which the gene defect is unknown, by linkage analysis, positional cloning and evaluation of candidate genes.    Ongoing;Correlate specific mutations and their associated protein domains with disease phenotypic expression based on parameters including presenting age, clinical manifestations, histopathology and rate of recurrence.    Ongoing;Identify and describe as yet unknown or uncharacterized inherited urologic malignant disorders.    Ongoing Sarcoma Neoplasms gemcitabine + ISIS 2503    Experimental    Patients receive gemcitabine IV over 30 minutes on days 1 and 8 and ISIS 2503 IV continuously on days 1-14. Treatment continues every 21 days in the absence of disease progression or unacceptable toxicity. Patients are followed every 3 months for 1 year and then every 6 months for 4 years.  radiotherapy DISEASE CHARACTERISTICS:        Biopsy-proven grade I soft tissue sarcoma or one of the following benign but highly        invasive soft tissue tumors:        Abdominal and extra-abdominal fibromatosis (desmoid,        aggressive fibromatosis),        Dermatofibrosarcoma protuberans,        Intramuscular lipoma (infiltrating lipoma),        Diffuse lipomatosis,        Leiomyoma of deep soft tissue,        Diffuse giant cell tumor of tendon sheath (proliferative synovitis).        No clinical evidence of metastases in regional nodes or more distant sites.        No primary intraperitoneal or retroperitoneal tumors.        Resection of all gross tumor at the time of surgical excision required (margins may be        pathologically positive or negative).        No von Recklinghausen's disease.        PRIOR/CONCURRENT THERAPY:        Biologic Therapy: Not specified.        Chemotherapy: No prior chemotherapy for sarcoma.        Endocrine Therapy: Not specified.        Radiotherapy: No prior radiotherapy for sarcoma.        Surgery: No more than 4 months since definitive surgery for        primary lesion or recurrence.        No prior amputation.        PATIENT CHARACTERISTICS:        Age: 18 and over.        Performance status: Not specified.        Hematopoietic: Not specified.        Hepatic: No cirrhosis.        Renal: No evidence of severe renal impairment.        Cardiovascular: No ischemic heart disease.        OTHER:        No prior malignancy except basal cell carcinoma.        No serious infection.        No active bleeding disorder.        No severe concomitant disease. Sarcoma Soft Tissue Neoplasms \n",
      "y_train instance:  0\n"
     ]
    }
   ],
   "source": [
    "print(\"x_train instance: \", X_train[1])\n",
    "print(\"y_train instance: \", y_train[1])"
   ]
  },
  {
   "cell_type": "code",
   "execution_count": 12,
   "metadata": {},
   "outputs": [],
   "source": [
    "import sklearn\n",
    "from sklearn import preprocessing\n",
    "\n",
    "#Encode from string to numbers\n",
    "enc = preprocessing.LabelEncoder()\n",
    "y_train = enc.fit_transform(y_train)\n",
    "y_test = enc.transform(y_test)"
   ]
  },
  {
   "cell_type": "code",
   "execution_count": 13,
   "metadata": {},
   "outputs": [],
   "source": [
    "import string\n",
    "from nltk.stem import PorterStemmer\n",
    "from nltk import word_tokenize\n",
    "from sklearn.naive_bayes import MultinomialNB\n",
    "from sklearn.pipeline import Pipeline\n",
    "from sklearn.feature_extraction.text import TfidfVectorizer\n",
    "from nltk.corpus import stopwords\n",
    "\n",
    "def stemming_tokenizer(text):\n",
    "    stemmer = PorterStemmer()\n",
    "    return [stemmer.stem(w) for w in word_tokenize(text)]"
   ]
  },
  {
   "cell_type": "code",
   "execution_count": 14,
   "metadata": {},
   "outputs": [],
   "source": [
    "n_words = 10000\n",
    "vectorizer = TfidfVectorizer(tokenizer=stemming_tokenizer,\n",
    "                             stop_words=stopwords.words('english') + list(string.punctuation),lowercase = True, max_features = n_words)\n",
    "tfidf = vectorizer.fit(X_train.values.astype('U'))"
   ]
  },
  {
   "cell_type": "code",
   "execution_count": 15,
   "metadata": {},
   "outputs": [
    {
     "name": "stdout",
     "output_type": "stream",
     "text": [
      "X_train shape:  (10080, 10000)\n",
      "X_test shape:  (3361, 10000)\n"
     ]
    }
   ],
   "source": [
    "X_test = tfidf.transform(X_test.values.astype('U'))\n",
    "X_train = tfidf.transform(X_train.values.astype('U'))\n",
    "\n",
    "print(\"X_train shape: \", X_train.shape)\n",
    "print(\"X_test shape: \", X_test.shape)"
   ]
  },
  {
   "cell_type": "code",
   "execution_count": 16,
   "metadata": {},
   "outputs": [
    {
     "name": "stdout",
     "output_type": "stream",
     "text": [
      "  (0, 9895)\t0.07640168464229442\n",
      "  (0, 9866)\t0.04877070868669573\n",
      "  (0, 9861)\t0.045401458785041926\n",
      "  (0, 9656)\t0.11695867860820577\n",
      "  (0, 9580)\t0.10587472379258316\n",
      "  (0, 9537)\t0.012837907129987473\n",
      "  (0, 9467)\t0.04763827782955141\n",
      "  (0, 9365)\t0.06359613962668724\n",
      "  (0, 9307)\t0.01611855311596489\n",
      "  (0, 9290)\t0.045406711966273966\n",
      "  (0, 9215)\t0.01880541809365138\n",
      "  (0, 9086)\t0.022006317895254486\n",
      "  (0, 9043)\t0.016304586580080414\n",
      "  (0, 8859)\t0.09223762659451608\n",
      "  (0, 8854)\t0.02256466564801664\n",
      "  (0, 8761)\t0.0312824710122498\n",
      "  (0, 8737)\t0.0361943721464876\n",
      "  (0, 8695)\t0.10769292970923393\n",
      "  (0, 8673)\t0.03755916071942743\n",
      "  (0, 8541)\t0.3956701599978626\n",
      "  (0, 8540)\t0.48537750524091133\n",
      "  (0, 8391)\t0.04717268938837295\n",
      "  (0, 8015)\t0.025690731254771736\n",
      "  (0, 7982)\t0.02379527058028806\n",
      "  (0, 7967)\t0.04315040222061069\n",
      "  :\t:\n",
      "  (0, 2451)\t0.04291117082412941\n",
      "  (0, 2280)\t0.021723226376840335\n",
      "  (0, 2260)\t0.15364505158882066\n",
      "  (0, 2156)\t0.02226319464940933\n",
      "  (0, 2095)\t0.11413265396999447\n",
      "  (0, 2068)\t0.11869806143016244\n",
      "  (0, 1795)\t0.05309569924742221\n",
      "  (0, 1753)\t0.30138612406336074\n",
      "  (0, 1645)\t0.07368845176964904\n",
      "  (0, 1558)\t0.14500949847796296\n",
      "  (0, 1473)\t0.041307349956094405\n",
      "  (0, 1438)\t0.11908991055469097\n",
      "  (0, 1226)\t0.01880071545419262\n",
      "  (0, 1101)\t0.06857935392819135\n",
      "  (0, 1094)\t0.01845860101091337\n",
      "  (0, 1073)\t0.04274927434417655\n",
      "  (0, 1005)\t0.032897304387427634\n",
      "  (0, 862)\t0.04511847797833087\n",
      "  (0, 746)\t0.016760024613235943\n",
      "  (0, 523)\t0.028958393803044324\n",
      "  (0, 473)\t0.10571198617382506\n",
      "  (0, 396)\t0.112591941068041\n",
      "  (0, 375)\t0.0665700973914989\n",
      "  (0, 229)\t0.019956937327462114\n",
      "  (0, 52)\t0.02462596951753826\n"
     ]
    }
   ],
   "source": [
    "print(X_train[0])"
   ]
  },
  {
   "cell_type": "code",
   "execution_count": 17,
   "metadata": {},
   "outputs": [
    {
     "name": "stdout",
     "output_type": "stream",
     "text": [
      "Final Models: [(0.200000, SimpleClassificationPipeline({'balancing:strategy': 'weighting', 'categorical_encoding:__choice__': 'no_encoding', 'classifier:__choice__': 'adaboost', 'imputation:strategy': 'most_frequent', 'preprocessor:__choice__': 'liblinear_svc_preprocessor', 'rescaling:__choice__': 'standardize', 'classifier:adaboost:algorithm': 'SAMME', 'classifier:adaboost:learning_rate': 0.4305533777913843, 'classifier:adaboost:max_depth': 4, 'classifier:adaboost:n_estimators': 450, 'preprocessor:liblinear_svc_preprocessor:C': 1.7691037850299067, 'preprocessor:liblinear_svc_preprocessor:dual': 'False', 'preprocessor:liblinear_svc_preprocessor:fit_intercept': 'True', 'preprocessor:liblinear_svc_preprocessor:intercept_scaling': 1, 'preprocessor:liblinear_svc_preprocessor:loss': 'squared_hinge', 'preprocessor:liblinear_svc_preprocessor:multi_class': 'ovr', 'preprocessor:liblinear_svc_preprocessor:penalty': 'l1', 'preprocessor:liblinear_svc_preprocessor:tol': 0.0004769684828846608},\n",
      "dataset_properties={\n",
      "  'task': 1,\n",
      "  'sparse': True,\n",
      "  'multilabel': False,\n",
      "  'multiclass': False,\n",
      "  'target_type': 'classification',\n",
      "  'signed': False})),\n",
      "(0.180000, SimpleClassificationPipeline({'balancing:strategy': 'weighting', 'categorical_encoding:__choice__': 'no_encoding', 'classifier:__choice__': 'adaboost', 'imputation:strategy': 'mean', 'preprocessor:__choice__': 'truncatedSVD', 'rescaling:__choice__': 'none', 'classifier:adaboost:algorithm': 'SAMME', 'classifier:adaboost:learning_rate': 0.34462031936424176, 'classifier:adaboost:max_depth': 3, 'classifier:adaboost:n_estimators': 152, 'preprocessor:truncatedSVD:target_dim': 16},\n",
      "dataset_properties={\n",
      "  'task': 1,\n",
      "  'sparse': True,\n",
      "  'multilabel': False,\n",
      "  'multiclass': False,\n",
      "  'target_type': 'classification',\n",
      "  'signed': False})),\n",
      "(0.080000, SimpleClassificationPipeline({'balancing:strategy': 'weighting', 'categorical_encoding:__choice__': 'one_hot_encoding', 'classifier:__choice__': 'adaboost', 'imputation:strategy': 'median', 'preprocessor:__choice__': 'extra_trees_preproc_for_classification', 'rescaling:__choice__': 'normalize', 'categorical_encoding:one_hot_encoding:use_minimum_fraction': 'True', 'classifier:adaboost:algorithm': 'SAMME.R', 'classifier:adaboost:learning_rate': 1.432020267774843, 'classifier:adaboost:max_depth': 2, 'classifier:adaboost:n_estimators': 490, 'preprocessor:extra_trees_preproc_for_classification:bootstrap': 'True', 'preprocessor:extra_trees_preproc_for_classification:criterion': 'entropy', 'preprocessor:extra_trees_preproc_for_classification:max_depth': 'None', 'preprocessor:extra_trees_preproc_for_classification:max_features': 0.916763815015019, 'preprocessor:extra_trees_preproc_for_classification:max_leaf_nodes': 'None', 'preprocessor:extra_trees_preproc_for_classification:min_impurity_decrease': 0.0, 'preprocessor:extra_trees_preproc_for_classification:min_samples_leaf': 7, 'preprocessor:extra_trees_preproc_for_classification:min_samples_split': 2, 'preprocessor:extra_trees_preproc_for_classification:min_weight_fraction_leaf': 0.0, 'preprocessor:extra_trees_preproc_for_classification:n_estimators': 100, 'categorical_encoding:one_hot_encoding:minimum_fraction': 0.000782856854312025},\n",
      "dataset_properties={\n",
      "  'task': 1,\n",
      "  'sparse': True,\n",
      "  'multilabel': False,\n",
      "  'multiclass': False,\n",
      "  'target_type': 'classification',\n",
      "  'signed': False})),\n",
      "(0.060000, SimpleClassificationPipeline({'balancing:strategy': 'none', 'categorical_encoding:__choice__': 'one_hot_encoding', 'classifier:__choice__': 'passive_aggressive', 'imputation:strategy': 'mean', 'preprocessor:__choice__': 'extra_trees_preproc_for_classification', 'rescaling:__choice__': 'none', 'categorical_encoding:one_hot_encoding:use_minimum_fraction': 'False', 'classifier:passive_aggressive:C': 0.002757718490721622, 'classifier:passive_aggressive:average': False, 'classifier:passive_aggressive:fit_intercept': 'True', 'classifier:passive_aggressive:loss': 'hinge', 'classifier:passive_aggressive:tol': 1.6229595646856986e-05, 'preprocessor:extra_trees_preproc_for_classification:bootstrap': 'True', 'preprocessor:extra_trees_preproc_for_classification:criterion': 'entropy', 'preprocessor:extra_trees_preproc_for_classification:max_depth': 'None', 'preprocessor:extra_trees_preproc_for_classification:max_features': 0.9730856812103024, 'preprocessor:extra_trees_preproc_for_classification:max_leaf_nodes': 'None', 'preprocessor:extra_trees_preproc_for_classification:min_impurity_decrease': 0.0, 'preprocessor:extra_trees_preproc_for_classification:min_samples_leaf': 8, 'preprocessor:extra_trees_preproc_for_classification:min_samples_split': 8, 'preprocessor:extra_trees_preproc_for_classification:min_weight_fraction_leaf': 0.0, 'preprocessor:extra_trees_preproc_for_classification:n_estimators': 100},\n",
      "dataset_properties={\n",
      "  'task': 1,\n",
      "  'sparse': True,\n",
      "  'multilabel': False,\n",
      "  'multiclass': False,\n",
      "  'target_type': 'classification',\n",
      "  'signed': False})),\n",
      "(0.060000, SimpleClassificationPipeline({'balancing:strategy': 'weighting', 'categorical_encoding:__choice__': 'one_hot_encoding', 'classifier:__choice__': 'random_forest', 'imputation:strategy': 'mean', 'preprocessor:__choice__': 'extra_trees_preproc_for_classification', 'rescaling:__choice__': 'normalize', 'categorical_encoding:one_hot_encoding:use_minimum_fraction': 'True', 'classifier:random_forest:bootstrap': 'True', 'classifier:random_forest:criterion': 'gini', 'classifier:random_forest:max_depth': 'None', 'classifier:random_forest:max_features': 0.7974565919616314, 'classifier:random_forest:max_leaf_nodes': 'None', 'classifier:random_forest:min_impurity_decrease': 0.0, 'classifier:random_forest:min_samples_leaf': 12, 'classifier:random_forest:min_samples_split': 11, 'classifier:random_forest:min_weight_fraction_leaf': 0.0, 'classifier:random_forest:n_estimators': 100, 'preprocessor:extra_trees_preproc_for_classification:bootstrap': 'True', 'preprocessor:extra_trees_preproc_for_classification:criterion': 'entropy', 'preprocessor:extra_trees_preproc_for_classification:max_depth': 'None', 'preprocessor:extra_trees_preproc_for_classification:max_features': 0.9914240047963078, 'preprocessor:extra_trees_preproc_for_classification:max_leaf_nodes': 'None', 'preprocessor:extra_trees_preproc_for_classification:min_impurity_decrease': 0.0, 'preprocessor:extra_trees_preproc_for_classification:min_samples_leaf': 12, 'preprocessor:extra_trees_preproc_for_classification:min_samples_split': 6, 'preprocessor:extra_trees_preproc_for_classification:min_weight_fraction_leaf': 0.0, 'preprocessor:extra_trees_preproc_for_classification:n_estimators': 100, 'categorical_encoding:one_hot_encoding:minimum_fraction': 0.010000000000000004},\n",
      "dataset_properties={\n",
      "  'task': 1,\n",
      "  'sparse': True,\n",
      "  'multilabel': False,\n",
      "  'multiclass': False,\n",
      "  'target_type': 'classification',\n",
      "  'signed': False})),\n",
      "(0.060000, SimpleClassificationPipeline({'balancing:strategy': 'weighting', 'categorical_encoding:__choice__': 'one_hot_encoding', 'classifier:__choice__': 'adaboost', 'imputation:strategy': 'mean', 'preprocessor:__choice__': 'extra_trees_preproc_for_classification', 'rescaling:__choice__': 'none', 'categorical_encoding:one_hot_encoding:use_minimum_fraction': 'False', 'classifier:adaboost:algorithm': 'SAMME', 'classifier:adaboost:learning_rate': 0.48434734322636175, 'classifier:adaboost:max_depth': 9, 'classifier:adaboost:n_estimators': 136, 'preprocessor:extra_trees_preproc_for_classification:bootstrap': 'True', 'preprocessor:extra_trees_preproc_for_classification:criterion': 'entropy', 'preprocessor:extra_trees_preproc_for_classification:max_depth': 'None', 'preprocessor:extra_trees_preproc_for_classification:max_features': 0.9634851186079306, 'preprocessor:extra_trees_preproc_for_classification:max_leaf_nodes': 'None', 'preprocessor:extra_trees_preproc_for_classification:min_impurity_decrease': 0.0, 'preprocessor:extra_trees_preproc_for_classification:min_samples_leaf': 15, 'preprocessor:extra_trees_preproc_for_classification:min_samples_split': 2, 'preprocessor:extra_trees_preproc_for_classification:min_weight_fraction_leaf': 0.0, 'preprocessor:extra_trees_preproc_for_classification:n_estimators': 100},\n",
      "dataset_properties={\n",
      "  'task': 1,\n",
      "  'sparse': True,\n",
      "  'multilabel': False,\n",
      "  'multiclass': False,\n",
      "  'target_type': 'classification',\n",
      "  'signed': False})),\n",
      "(0.040000, SimpleClassificationPipeline({'balancing:strategy': 'weighting', 'categorical_encoding:__choice__': 'one_hot_encoding', 'classifier:__choice__': 'adaboost', 'imputation:strategy': 'most_frequent', 'preprocessor:__choice__': 'liblinear_svc_preprocessor', 'rescaling:__choice__': 'standardize', 'categorical_encoding:one_hot_encoding:use_minimum_fraction': 'False', 'classifier:adaboost:algorithm': 'SAMME', 'classifier:adaboost:learning_rate': 0.48776378102803314, 'classifier:adaboost:max_depth': 9, 'classifier:adaboost:n_estimators': 302, 'preprocessor:liblinear_svc_preprocessor:C': 74.9532148404406, 'preprocessor:liblinear_svc_preprocessor:dual': 'False', 'preprocessor:liblinear_svc_preprocessor:fit_intercept': 'True', 'preprocessor:liblinear_svc_preprocessor:intercept_scaling': 1, 'preprocessor:liblinear_svc_preprocessor:loss': 'squared_hinge', 'preprocessor:liblinear_svc_preprocessor:multi_class': 'ovr', 'preprocessor:liblinear_svc_preprocessor:penalty': 'l1', 'preprocessor:liblinear_svc_preprocessor:tol': 3.083329980385518e-05},\n",
      "dataset_properties={\n",
      "  'task': 1,\n",
      "  'sparse': True,\n",
      "  'multilabel': False,\n",
      "  'multiclass': False,\n",
      "  'target_type': 'classification',\n",
      "  'signed': False})),\n",
      "(0.040000, SimpleClassificationPipeline({'balancing:strategy': 'weighting', 'categorical_encoding:__choice__': 'one_hot_encoding', 'classifier:__choice__': 'adaboost', 'imputation:strategy': 'mean', 'preprocessor:__choice__': 'extra_trees_preproc_for_classification', 'rescaling:__choice__': 'none', 'categorical_encoding:one_hot_encoding:use_minimum_fraction': 'False', 'classifier:adaboost:algorithm': 'SAMME', 'classifier:adaboost:learning_rate': 0.48434734322636175, 'classifier:adaboost:max_depth': 9, 'classifier:adaboost:n_estimators': 136, 'preprocessor:extra_trees_preproc_for_classification:bootstrap': 'True', 'preprocessor:extra_trees_preproc_for_classification:criterion': 'entropy', 'preprocessor:extra_trees_preproc_for_classification:max_depth': 'None', 'preprocessor:extra_trees_preproc_for_classification:max_features': 0.9153068155381775, 'preprocessor:extra_trees_preproc_for_classification:max_leaf_nodes': 'None', 'preprocessor:extra_trees_preproc_for_classification:min_impurity_decrease': 0.0, 'preprocessor:extra_trees_preproc_for_classification:min_samples_leaf': 15, 'preprocessor:extra_trees_preproc_for_classification:min_samples_split': 2, 'preprocessor:extra_trees_preproc_for_classification:min_weight_fraction_leaf': 0.0, 'preprocessor:extra_trees_preproc_for_classification:n_estimators': 100},\n",
      "dataset_properties={\n",
      "  'task': 1,\n",
      "  'sparse': True,\n",
      "  'multilabel': False,\n",
      "  'multiclass': False,\n",
      "  'target_type': 'classification',\n",
      "  'signed': False})),\n",
      "(0.040000, SimpleClassificationPipeline({'balancing:strategy': 'weighting', 'categorical_encoding:__choice__': 'one_hot_encoding', 'classifier:__choice__': 'adaboost', 'imputation:strategy': 'median', 'preprocessor:__choice__': 'extra_trees_preproc_for_classification', 'rescaling:__choice__': 'none', 'categorical_encoding:one_hot_encoding:use_minimum_fraction': 'False', 'classifier:adaboost:algorithm': 'SAMME', 'classifier:adaboost:learning_rate': 0.48434734322636175, 'classifier:adaboost:max_depth': 9, 'classifier:adaboost:n_estimators': 50, 'preprocessor:extra_trees_preproc_for_classification:bootstrap': 'True', 'preprocessor:extra_trees_preproc_for_classification:criterion': 'entropy', 'preprocessor:extra_trees_preproc_for_classification:max_depth': 'None', 'preprocessor:extra_trees_preproc_for_classification:max_features': 0.9153068155381775, 'preprocessor:extra_trees_preproc_for_classification:max_leaf_nodes': 'None', 'preprocessor:extra_trees_preproc_for_classification:min_impurity_decrease': 0.0, 'preprocessor:extra_trees_preproc_for_classification:min_samples_leaf': 15, 'preprocessor:extra_trees_preproc_for_classification:min_samples_split': 2, 'preprocessor:extra_trees_preproc_for_classification:min_weight_fraction_leaf': 0.0, 'preprocessor:extra_trees_preproc_for_classification:n_estimators': 100},\n",
      "dataset_properties={\n",
      "  'task': 1,\n",
      "  'sparse': True,\n",
      "  'multilabel': False,\n",
      "  'multiclass': False,\n",
      "  'target_type': 'classification',\n",
      "  'signed': False})),\n",
      "(0.040000, SimpleClassificationPipeline({'balancing:strategy': 'weighting', 'categorical_encoding:__choice__': 'one_hot_encoding', 'classifier:__choice__': 'adaboost', 'imputation:strategy': 'mean', 'preprocessor:__choice__': 'truncatedSVD', 'rescaling:__choice__': 'none', 'categorical_encoding:one_hot_encoding:use_minimum_fraction': 'False', 'classifier:adaboost:algorithm': 'SAMME', 'classifier:adaboost:learning_rate': 0.9568248479550463, 'classifier:adaboost:max_depth': 8, 'classifier:adaboost:n_estimators': 331, 'preprocessor:truncatedSVD:target_dim': 76},\n",
      "dataset_properties={\n",
      "  'task': 1,\n",
      "  'sparse': True,\n",
      "  'multilabel': False,\n",
      "  'multiclass': False,\n",
      "  'target_type': 'classification',\n",
      "  'signed': False})),\n",
      "(0.040000, SimpleClassificationPipeline({'balancing:strategy': 'weighting', 'categorical_encoding:__choice__': 'no_encoding', 'classifier:__choice__': 'adaboost', 'imputation:strategy': 'median', 'preprocessor:__choice__': 'no_preprocessing', 'rescaling:__choice__': 'normalize', 'classifier:adaboost:algorithm': 'SAMME', 'classifier:adaboost:learning_rate': 0.06466754824432551, 'classifier:adaboost:max_depth': 3, 'classifier:adaboost:n_estimators': 129},\n",
      "dataset_properties={\n",
      "  'task': 1,\n",
      "  'sparse': True,\n",
      "  'multilabel': False,\n",
      "  'multiclass': False,\n",
      "  'target_type': 'classification',\n",
      "  'signed': False})),\n",
      "(0.040000, SimpleClassificationPipeline({'balancing:strategy': 'weighting', 'categorical_encoding:__choice__': 'no_encoding', 'classifier:__choice__': 'adaboost', 'imputation:strategy': 'most_frequent', 'preprocessor:__choice__': 'extra_trees_preproc_for_classification', 'rescaling:__choice__': 'none', 'classifier:adaboost:algorithm': 'SAMME', 'classifier:adaboost:learning_rate': 0.4305533777913843, 'classifier:adaboost:max_depth': 4, 'classifier:adaboost:n_estimators': 377, 'preprocessor:extra_trees_preproc_for_classification:bootstrap': 'False', 'preprocessor:extra_trees_preproc_for_classification:criterion': 'gini', 'preprocessor:extra_trees_preproc_for_classification:max_depth': 'None', 'preprocessor:extra_trees_preproc_for_classification:max_features': 0.5, 'preprocessor:extra_trees_preproc_for_classification:max_leaf_nodes': 'None', 'preprocessor:extra_trees_preproc_for_classification:min_impurity_decrease': 0.0, 'preprocessor:extra_trees_preproc_for_classification:min_samples_leaf': 1, 'preprocessor:extra_trees_preproc_for_classification:min_samples_split': 6, 'preprocessor:extra_trees_preproc_for_classification:min_weight_fraction_leaf': 0.0, 'preprocessor:extra_trees_preproc_for_classification:n_estimators': 100},\n",
      "dataset_properties={\n",
      "  'task': 1,\n",
      "  'sparse': True,\n",
      "  'multilabel': False,\n",
      "  'multiclass': False,\n",
      "  'target_type': 'classification',\n",
      "  'signed': False})),\n",
      "(0.040000, SimpleClassificationPipeline({'balancing:strategy': 'none', 'categorical_encoding:__choice__': 'no_encoding', 'classifier:__choice__': 'random_forest', 'imputation:strategy': 'median', 'preprocessor:__choice__': 'extra_trees_preproc_for_classification', 'rescaling:__choice__': 'standardize', 'classifier:random_forest:bootstrap': 'True', 'classifier:random_forest:criterion': 'gini', 'classifier:random_forest:max_depth': 'None', 'classifier:random_forest:max_features': 0.4452824088605387, 'classifier:random_forest:max_leaf_nodes': 'None', 'classifier:random_forest:min_impurity_decrease': 0.0, 'classifier:random_forest:min_samples_leaf': 5, 'classifier:random_forest:min_samples_split': 12, 'classifier:random_forest:min_weight_fraction_leaf': 0.0, 'classifier:random_forest:n_estimators': 100, 'preprocessor:extra_trees_preproc_for_classification:bootstrap': 'True', 'preprocessor:extra_trees_preproc_for_classification:criterion': 'entropy', 'preprocessor:extra_trees_preproc_for_classification:max_depth': 'None', 'preprocessor:extra_trees_preproc_for_classification:max_features': 0.9916026831950694, 'preprocessor:extra_trees_preproc_for_classification:max_leaf_nodes': 'None', 'preprocessor:extra_trees_preproc_for_classification:min_impurity_decrease': 0.0, 'preprocessor:extra_trees_preproc_for_classification:min_samples_leaf': 3, 'preprocessor:extra_trees_preproc_for_classification:min_samples_split': 19, 'preprocessor:extra_trees_preproc_for_classification:min_weight_fraction_leaf': 0.0, 'preprocessor:extra_trees_preproc_for_classification:n_estimators': 100},\n",
      "dataset_properties={\n",
      "  'task': 1,\n",
      "  'sparse': True,\n",
      "  'multilabel': False,\n",
      "  'multiclass': False,\n",
      "  'target_type': 'classification',\n",
      "  'signed': False})),\n",
      "(0.020000, SimpleClassificationPipeline({'balancing:strategy': 'weighting', 'categorical_encoding:__choice__': 'one_hot_encoding', 'classifier:__choice__': 'extra_trees', 'imputation:strategy': 'mean', 'preprocessor:__choice__': 'extra_trees_preproc_for_classification', 'rescaling:__choice__': 'standardize', 'categorical_encoding:one_hot_encoding:use_minimum_fraction': 'True', 'classifier:extra_trees:bootstrap': 'True', 'classifier:extra_trees:criterion': 'entropy', 'classifier:extra_trees:max_depth': 'None', 'classifier:extra_trees:max_features': 0.712362002844248, 'classifier:extra_trees:max_leaf_nodes': 'None', 'classifier:extra_trees:min_impurity_decrease': 0.0, 'classifier:extra_trees:min_samples_leaf': 16, 'classifier:extra_trees:min_samples_split': 15, 'classifier:extra_trees:min_weight_fraction_leaf': 0.0, 'classifier:extra_trees:n_estimators': 100, 'preprocessor:extra_trees_preproc_for_classification:bootstrap': 'False', 'preprocessor:extra_trees_preproc_for_classification:criterion': 'gini', 'preprocessor:extra_trees_preproc_for_classification:max_depth': 'None', 'preprocessor:extra_trees_preproc_for_classification:max_features': 0.5, 'preprocessor:extra_trees_preproc_for_classification:max_leaf_nodes': 'None', 'preprocessor:extra_trees_preproc_for_classification:min_impurity_decrease': 0.0, 'preprocessor:extra_trees_preproc_for_classification:min_samples_leaf': 1, 'preprocessor:extra_trees_preproc_for_classification:min_samples_split': 2, 'preprocessor:extra_trees_preproc_for_classification:min_weight_fraction_leaf': 0.0, 'preprocessor:extra_trees_preproc_for_classification:n_estimators': 100, 'categorical_encoding:one_hot_encoding:minimum_fraction': 0.001532792329695102},\n",
      "dataset_properties={\n",
      "  'task': 1,\n",
      "  'sparse': True,\n",
      "  'multilabel': False,\n",
      "  'multiclass': False,\n",
      "  'target_type': 'classification',\n",
      "  'signed': False})),\n",
      "(0.020000, SimpleClassificationPipeline({'balancing:strategy': 'weighting', 'categorical_encoding:__choice__': 'one_hot_encoding', 'classifier:__choice__': 'adaboost', 'imputation:strategy': 'median', 'preprocessor:__choice__': 'no_preprocessing', 'rescaling:__choice__': 'none', 'categorical_encoding:one_hot_encoding:use_minimum_fraction': 'True', 'classifier:adaboost:algorithm': 'SAMME', 'classifier:adaboost:learning_rate': 0.6340302989463532, 'classifier:adaboost:max_depth': 7, 'classifier:adaboost:n_estimators': 115, 'categorical_encoding:one_hot_encoding:minimum_fraction': 0.0006966830283649219},\n",
      "dataset_properties={\n",
      "  'task': 1,\n",
      "  'sparse': True,\n",
      "  'multilabel': False,\n",
      "  'multiclass': False,\n",
      "  'target_type': 'classification',\n",
      "  'signed': False})),\n",
      "(0.020000, SimpleClassificationPipeline({'balancing:strategy': 'none', 'categorical_encoding:__choice__': 'one_hot_encoding', 'classifier:__choice__': 'adaboost', 'imputation:strategy': 'mean', 'preprocessor:__choice__': 'truncatedSVD', 'rescaling:__choice__': 'standardize', 'categorical_encoding:one_hot_encoding:use_minimum_fraction': 'True', 'classifier:adaboost:algorithm': 'SAMME', 'classifier:adaboost:learning_rate': 1.4156235073816987, 'classifier:adaboost:max_depth': 7, 'classifier:adaboost:n_estimators': 114, 'preprocessor:truncatedSVD:target_dim': 83, 'categorical_encoding:one_hot_encoding:minimum_fraction': 0.00012509298866406643},\n",
      "dataset_properties={\n",
      "  'task': 1,\n",
      "  'sparse': True,\n",
      "  'multilabel': False,\n",
      "  'multiclass': False,\n",
      "  'target_type': 'classification',\n",
      "  'signed': False})),\n",
      "(0.020000, SimpleClassificationPipeline({'balancing:strategy': 'weighting', 'categorical_encoding:__choice__': 'no_encoding', 'classifier:__choice__': 'adaboost', 'imputation:strategy': 'most_frequent', 'preprocessor:__choice__': 'liblinear_svc_preprocessor', 'rescaling:__choice__': 'none', 'classifier:adaboost:algorithm': 'SAMME', 'classifier:adaboost:learning_rate': 0.4305533777913843, 'classifier:adaboost:max_depth': 4, 'classifier:adaboost:n_estimators': 450, 'preprocessor:liblinear_svc_preprocessor:C': 1.7691037850299067, 'preprocessor:liblinear_svc_preprocessor:dual': 'False', 'preprocessor:liblinear_svc_preprocessor:fit_intercept': 'True', 'preprocessor:liblinear_svc_preprocessor:intercept_scaling': 1, 'preprocessor:liblinear_svc_preprocessor:loss': 'squared_hinge', 'preprocessor:liblinear_svc_preprocessor:multi_class': 'ovr', 'preprocessor:liblinear_svc_preprocessor:penalty': 'l1', 'preprocessor:liblinear_svc_preprocessor:tol': 0.0004769684828846608},\n",
      "dataset_properties={\n",
      "  'task': 1,\n",
      "  'sparse': True,\n",
      "  'multilabel': False,\n",
      "  'multiclass': False,\n",
      "  'target_type': 'classification',\n",
      "  'signed': False})),\n",
      "]\n"
     ]
    }
   ],
   "source": [
    "import autosklearn.classification\n",
    "automl = autosklearn.classification.AutoSklearnClassifier(\n",
    "    time_left_for_this_task=10800#1200#86400\n",
    ")\n",
    "automl.fit(X_train, y_train)\n",
    "y_hat = automl.predict(X_test)\n",
    "print(\"Final Models:\", automl.show_models())"
   ]
  },
  {
   "cell_type": "code",
   "execution_count": 24,
   "metadata": {},
   "outputs": [
    {
     "name": "stdout",
     "output_type": "stream",
     "text": [
      "Confusion Matrix: \n",
      " [[ 568  412]\n",
      " [ 351 2030]]\n",
      "Precision:  0.6180631120783461\n",
      "Recall:  0.5795918367346938\n",
      "Accuracy:  0.7729842308836655\n"
     ]
    }
   ],
   "source": [
    "print(\"Confusion Matrix: \\n\", sklearn.metrics.confusion_matrix(y_test, y_hat, labels=[1,0]))\n",
    "print(\"Precision: \", sklearn.metrics.precision_score(y_test, y_hat))\n",
    "print(\"Recall: \", sklearn.metrics.recall_score(y_test, y_hat))\n",
    "print(\"Accuracy: \", sklearn.metrics.accuracy_score(y_test, y_hat))"
   ]
  },
  {
   "cell_type": "code",
   "execution_count": 25,
   "metadata": {},
   "outputs": [],
   "source": [
    "import pickle\n",
    "VECTORIZER_NAME = \"tfidfmodel_studies.sav\"\n",
    "pickle.dump(tfidf, open(VECTORIZER_NAME, 'wb'))"
   ]
  },
  {
   "cell_type": "code",
   "execution_count": 20,
   "metadata": {},
   "outputs": [
    {
     "name": "stdout",
     "output_type": "stream",
     "text": [
      "Accuracy:  0.7729842308836655\n"
     ]
    }
   ],
   "source": [
    "MODELNAME = \"trec_model_studies.sav\"\n",
    "pickle.dump(automl, open(MODELNAME, 'wb'))\n",
    " \n",
    "# load the model from disk\n",
    "loaded_model = pickle.load(open(MODELNAME, 'rb'))\n",
    "y_hat2 = loaded_model.predict(X_test)\n",
    "print(\"Accuracy: \", sklearn.metrics.accuracy_score(y_test, y_hat2))"
   ]
  },
  {
   "cell_type": "code",
   "execution_count": null,
   "metadata": {},
   "outputs": [],
   "source": []
  }
 ],
 "metadata": {
  "kernelspec": {
   "display_name": "Python 3",
   "language": "python",
   "name": "python3"
  },
  "language_info": {
   "codemirror_mode": {
    "name": "ipython",
    "version": 3
   },
   "file_extension": ".py",
   "mimetype": "text/x-python",
   "name": "python",
   "nbconvert_exporter": "python",
   "pygments_lexer": "ipython3",
   "version": "3.6.8"
  }
 },
 "nbformat": 4,
 "nbformat_minor": 2
}
