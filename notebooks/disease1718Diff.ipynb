{
 "cells": [
  {
   "cell_type": "markdown",
   "metadata": {},
   "source": [
    "# Quickly view all gene and disease names in the TREC-PM 2017 and 2018 topics\n",
    "\n",
    "This notebook is really just for viewing the genes and diseases. It does not generate any resource."
   ]
  },
  {
   "cell_type": "code",
   "execution_count": 47,
   "metadata": {},
   "outputs": [
    {
     "name": "stdout",
     "output_type": "stream",
     "text": [
      "Diseases18:  ['melanoma', 'leukemia', 'thyroid cancer', 'colorectal cancer', 'sarcoma', 'non-small cell carcinoma', 'head and neck squamous cell carcinoma', 'anaplastic large cell lymphoma', 'lung cancer', 'cholangiocarcinoma', 'acute myeloid leukemia', 'glioblastoma', 'papillary thyroid carcinoma', 'esophageal cancer', 'breast cancer', 'glioma', 'medullary thyroid carcinoma', 'neuroblastoma', 'basal cell carcinoma', 'adenoid cystic carcinoma', 'prostate cancer', 'gastric cancer'] \n",
      "\n",
      "Genes18:  {'kit (l576p), kit amplification', 'braf (k601e)', 'high tumor mutational burden', 'nras (q61r)', 'kit (k642e)', 'high serum ldh levels', 'braf amplification', 'nras', 'ptch1', 'braf (v600k)', 'cdk6', 'extensive tumor infiltrating lymphocytes', 'braf', 'pten', 'idh1', 'abl1', 'kit amplification', 'ret', 'tumor cells with >50% membranous pd-l1 expression', 'kit', 'kit (l576p)', 'tp53 loss of function', 'nf1 truncation', 'braf (v600e), pten loss of function', 'kit (n822y)', 'tumor cells negative for pd-l1 expression', 'alk', 'no tumor infiltrating lymphocytes', 'cdkn2a', 'braf (v600r)', 'ros1', 'met', 'pten loss of function', 'ntrk1', 'nras (q61l)', 'braf (v600e), nras (q61r)', 'apc loss of function', 'erbb2', 'ntrk1 rearrangement', 'flt3', 'braf (v600e)', 'fgfr1', 'egfr', 'mdm2'}\n"
     ]
    }
   ],
   "source": [
    "# Download and extract xml diseases and genes from 2018\n",
    "from six.moves import urllib\n",
    "from xml.etree import cElementTree as ET\n",
    "\n",
    "DOWNLOAD_ROOT = \"http://trec-cds.appspot.com/\"\n",
    "FILENAME18 = \"topics2018.xml\"\n",
    "DOWNLOAD_URL = DOWNLOAD_ROOT + FILENAME18\n",
    "\n",
    "def fetch_topics_xml(url = DOWNLOAD_URL, fn = FILENAME18):\n",
    "    urllib.request.urlretrieve(url, fn)\n",
    "    tree = ET.parse(fn)\n",
    "    root = tree.getroot()\n",
    "    diseases18 = {item.text.lower() for item in root.findall('./topic/disease')}\n",
    "    genes18 = {item.text.lower() for item in root.findall('./topic/gene')}\n",
    "    return diseases18, genes18\n",
    "    \n",
    "diseases18, genes18 = fetch_topics_xml()\n",
    "print(\"Diseases18: \", list(diseases18), \"\\n\")\n",
    "print(\"Genes18: \", genes18)"
   ]
  },
  {
   "cell_type": "code",
   "execution_count": 50,
   "metadata": {},
   "outputs": [
    {
     "name": "stdout",
     "output_type": "stream",
     "text": [
      "Diseases17:  {'gastrointestinal stromal tumor', 'melanoma', 'lung adenocarcinoma', 'colon cancer', 'pancreatic adenocarcinoma', 'lung cancer', 'pancreatic ductal adenocarcinoma', 'pancreatic cancer', 'cholangiocarcinoma', 'liposarcoma', 'ampullary carcinoma', 'prostate cancer', 'cervical cancer', 'meningioma', 'gastric cancer', 'colorectal cancer', 'breast cancer'} \n",
      "\n",
      "Genes17:  {'brca2', 'kras, tp53', 'cdk6 amplification', 'rb1, tp53, kras', 'pik3ca (e545k)', 'fgfr1 amplification, pten (q171)', 'mdm2 amplification', 'nf2 (k322), akt1(e17k)', 'cdk4 amplification', 'kras (g12c)', 'nras (q61k)', 'erbb3', 'braf (v600e), cdkn2a deletion', 'eml4-alk fusion transcript', 'nras amplification', 'idh1 (r132h)', 'erbb2 amplification', 'kras', 'egfr (l858r)', 'pten inactivating', 'stk11', 'cdkn2a', 'kras (g13d), braf (v600e)', 'ntrk1', 'pten loss', 'alk fusion', 'met amplification', 'kit exon 9 (a502_y503dup)', 'fgfr1 amplification', 'braf (v600e)'}\n"
     ]
    }
   ],
   "source": [
    "# Download and extract xml diseases and genes from 2017\n",
    "\n",
    "FILENAME17 = \"topics2017.xml\"\n",
    "\n",
    "diseases17, genes17 = fetch_topics_xml(DOWNLOAD_ROOT+FILENAME17, FILENAME17)\n",
    "print(\"Diseases17: \", diseases17, \"\\n\")\n",
    "print(\"Genes17: \", genes17)"
   ]
  },
  {
   "cell_type": "code",
   "execution_count": 53,
   "metadata": {},
   "outputs": [
    {
     "name": "stdout",
     "output_type": "stream",
     "text": [
      "{'melanoma', 'lung cancer', 'cholangiocarcinoma', 'prostate cancer', 'gastric cancer', 'colorectal cancer', 'breast cancer'}\n",
      "{'braf (v600e)', 'cdkn2a', 'ntrk1'}\n"
     ]
    }
   ],
   "source": [
    "# Find diseases and genes in common from 2017 and 2018\n",
    "\n",
    "print(diseases17 & diseases18)\n",
    "print(genes17 & genes18)"
   ]
  },
  {
   "cell_type": "code",
   "execution_count": null,
   "metadata": {},
   "outputs": [],
   "source": []
  }
 ],
 "metadata": {
  "kernelspec": {
   "display_name": "Python 3",
   "language": "python",
   "name": "python3"
  },
  "language_info": {
   "codemirror_mode": {
    "name": "ipython",
    "version": 3
   },
   "file_extension": ".py",
   "mimetype": "text/x-python",
   "name": "python",
   "nbconvert_exporter": "python",
   "pygments_lexer": "ipython3",
   "version": "3.6.8"
  }
 },
 "nbformat": 4,
 "nbformat_minor": 2
}
